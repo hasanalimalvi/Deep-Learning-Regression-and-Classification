{
  "nbformat": 4,
  "nbformat_minor": 0,
  "metadata": {
    "colab": {
      "provenance": []
    },
    "kernelspec": {
      "name": "python3",
      "display_name": "Python 3"
    },
    "language_info": {
      "name": "python"
    }
  },
  "cells": [
    {
      "cell_type": "markdown",
      "source": [
        "#### Q1 Implement the following operations (forward and backward pass)\n",
        "\n",
        "a. Matrix multiplication layer W X\n",
        "\n",
        "b. Bias addition layer\n",
        "\n",
        "c. Mean squared loss layer\n",
        "\n",
        "d. Soft max layer\n",
        "\n",
        "e. Sigmoid layer\n",
        "\n",
        "f. Cross entropy loss layer\n",
        "\n",
        "\n",
        "\n"
      ],
      "metadata": {
        "id": "z0YsXxVoBkdd"
      }
    },
    {
      "cell_type": "code",
      "source": [
        "#Importing Libraries\n",
        "import numpy as np\n",
        "import sklearn\n",
        "import matplotlib.pyplot as plt\n",
        "from sklearn.datasets import load_iris\n",
        "import pandas as pd\n",
        "import seaborn as sn\n",
        "import tensorflow as tf\n",
        "from sklearn.model_selection import train_test_split\n",
        "from sklearn.utils import shuffle"
      ],
      "metadata": {
        "id": "xg4EpXhGCWUA"
      },
      "execution_count": null,
      "outputs": []
    },
    {
      "cell_type": "code",
      "source": [
        "# Matrix Multiplication Forward Pass\n",
        "def F1(X, W):\n",
        "  return X@W\n",
        "\n",
        "# Matrix Multiplication Backward Pass with respect to X\n",
        "def B1_X(N,X,W):\n",
        "  row1 = np.shape(X)[0]\n",
        "  col1 = np.shape(X)[1]\n",
        "  row2 = np.shape(N)[0]\n",
        "  col2 = np.shape(N)[1]\n",
        "  shape = (row1, col1, row2, col2)\n",
        "  N_X = np.zeros(shape)\n",
        "  for i in range(row1):\n",
        "    for j in range(col1):\n",
        "      for k in range(col2):\n",
        "        N_X[i][j][i][k] = W[j][k]\n",
        "  return N_X\n",
        "\n",
        "# Matrix Multiplication Backward Pass with respect to W\n",
        "def B1_W(N,X,W):\n",
        "  return X\n",
        "\n",
        "# Bias Addition Layer\n",
        "def F2(N, B):\n",
        "  return N + B\n",
        "\n",
        "# Backward Pass of Bias Addition Layer with respect to N\n",
        "def B2_N(P):\n",
        "  n = np.shape(P)[0]\n",
        "  return np.eye(n)\n",
        "\n",
        "# Backward Pass of Bias Addition Layer with respect to P\n",
        "def B2_B(P):\n",
        "  shape = (np.shape(P)[0],1)\n",
        "  return np.ones(shape)\n",
        "\n",
        "# Mean Squared Loss Layer\n",
        "def F3(P, Y):\n",
        "    return np.sum((P - Y)**2)\n",
        "\n",
        "# Backward Pass of Mean Squared Loss Layer\n",
        "def B3(P, Y):\n",
        "  return 2*(P-Y)\n",
        "\n",
        "# Softmax Layer\n",
        "def F4(P):\n",
        "  exp_matrix = np.exp(P)\n",
        "  return exp_matrix / np.sum(exp_matrix, axis=1, keepdims=True)\n",
        "\n",
        "# Backward Pass of Softmax Layer\n",
        "def B4(P, Q):\n",
        "  row1 = np.shape(P)[0]\n",
        "  col1 = np.shape(P)[1]\n",
        "  row2 = np.shape(Q)[0]\n",
        "  col2 = np.shape(Q)[1]\n",
        "  shape = (row1, col1, row2, col2)\n",
        "  Q_P = np.zeros(shape)\n",
        "  for i in range(row1):\n",
        "    for j in range(col1):\n",
        "      for k in range(col2):\n",
        "        if k==j:\n",
        "          Q_P[i][j][i][k] = Q[i][j]*(1-Q[i][k])\n",
        "        else:\n",
        "          Q_P[i][j][i][k] = -1*Q[i][j]*(Q[i][k])\n",
        "  return Q_P\n",
        "\n",
        "# Sigmoid Layer\n",
        "def F5(P):\n",
        "  return 1 / (1 + np.exp(-P))\n",
        "\n",
        "# Backward Pass of Sigmoid layer\n",
        "def B5(P,Q):\n",
        "  row1 = np.shape(P)[0]\n",
        "  shape = (row1, row1)\n",
        "  Q_P = np.zeros(shape)\n",
        "  for i in range(row1):\n",
        "    Q_P[i][i] = Q[i][1]*(1-Q[i][1])\n",
        "  return Q_P\n",
        "\n",
        "# Cross Entropy Loss Layer\n",
        "def F6(Q, Y):\n",
        "  logQ=np.log(Q)\n",
        "  return -1*np.sum(Y*logQ)\n",
        "\n",
        "# Backward Pass of Cross Entropy Loss Layer\n",
        "def B6(Q, Y, L):\n",
        "  L_Q = np.zeros(Q.shape)\n",
        "  for i in range(0,Q.shape[0]):\n",
        "    for j in range(0,Q.shape[1]):\n",
        "      L_Q[i][j]=-1*(Y[i][j]/Q[i][j])\n",
        "  return L_Q\n",
        "\n",
        "# dl/dp\n",
        "def L_P(Y,Q):\n",
        "  ans=np.zeros(Q.shape)\n",
        "  for i in range(Q.shape[0]):\n",
        "    for j in range(Q.shape[1]):\n",
        "      ans[i][j] = Q[i][j]-Y[i][j]\n",
        "  return ans"
      ],
      "metadata": {
        "id": "RX13Hq8gCuv2"
      },
      "execution_count": null,
      "outputs": []
    },
    {
      "cell_type": "markdown",
      "source": [
        "#### Q2. Using the sklearn.load boston() function, obtain boston house pricing dataset. Train a regression model using the operations implemented above. You need to write a stochastic gradient descent function to train."
      ],
      "metadata": {
        "id": "tR6xu3DxIgj1"
      }
    },
    {
      "cell_type": "code",
      "source": [
        "# Fetching housing data\n",
        "from sklearn.datasets import fetch_california_housing\n",
        "housing=fetch_california_housing()\n",
        "\n",
        "# Taking top 1000 samples and normalizing taking max value\n",
        "X_2 = housing.data[0:1000] / np.max(housing.data[0:1000], axis=0, keepdims=True)\n",
        "Y_2 = (housing.target[0:1000] / np.max(housing.target[0:1000])).reshape(-1, 1)"
      ],
      "metadata": {
        "id": "k92LlRQFIwZL"
      },
      "execution_count": null,
      "outputs": []
    },
    {
      "cell_type": "code",
      "source": [
        "# Train-Test Split\n",
        "X_train_2, X_test_2, Y_train_2, Y_test_2 = train_test_split(X_2, Y_2, test_size=0.25, random_state=42)"
      ],
      "metadata": {
        "id": "M5DuZVFRI9uX"
      },
      "execution_count": null,
      "outputs": []
    },
    {
      "cell_type": "code",
      "source": [
        "# Initializing random weights and bias\n",
        "shape = (np.shape(X_2)[1],1)\n",
        "W_2 = np.random.randn(*shape)\n",
        "B_2 = np.random.rand()\n",
        "print(W_2)\n",
        "print(B_2)"
      ],
      "metadata": {
        "colab": {
          "base_uri": "https://localhost:8080/"
        },
        "id": "QcHVRbTLJEm0",
        "outputId": "3c87ee16-a7a2-4d92-b9a3-250dce837683"
      },
      "execution_count": null,
      "outputs": [
        {
          "output_type": "stream",
          "name": "stdout",
          "text": [
            "[[-0.95443711]\n",
            " [-0.10231087]\n",
            " [ 1.97490343]\n",
            " [-0.81633541]\n",
            " [-0.35445493]\n",
            " [ 0.20041858]\n",
            " [-1.21090963]\n",
            " [ 0.792046  ]]\n",
            "0.5948636549550996\n"
          ]
        }
      ]
    },
    {
      "cell_type": "code",
      "source": [
        "# Regression model which returns final weights and final bias\n",
        "def regression(learning_rate, max_iterations, X, Y, W, B):\n",
        "  iteration = []\n",
        "  L = []\n",
        "  #Stochastic Gradient Descent\n",
        "  for k in range(max_iterations):\n",
        "    l=0\n",
        "    for i in range(X.shape[0]):\n",
        "      input = X[i:i+1,:]\n",
        "      output = Y[i:i+1,:]\n",
        "      N = F1(input,W)\n",
        "      P = F2(N,B)\n",
        "      l += F3(P,output)\n",
        "      dl_dp = B3(P,output)\n",
        "      dp_dn = B2_N(P)\n",
        "      dn_dw = B1_W(N,input,W)\n",
        "      dp_db = B2_B(P)\n",
        "      dl_dw = ((dl_dp)@(dp_dn)@(dn_dw)).T\n",
        "      dl_db = ((dl_dp)@(dp_db))[0][0]\n",
        "      W = W - learning_rate*dl_dw\n",
        "      B = B - learning_rate*dl_db\n",
        "    L.append(l)\n",
        "    iteration.append(k)\n",
        "\n",
        "  return (L, iteration,W,B)"
      ],
      "metadata": {
        "id": "aE-cVCWcJYsf"
      },
      "execution_count": null,
      "outputs": []
    },
    {
      "cell_type": "code",
      "source": [
        "learning_rate = 0.001\n",
        "max_iterations = 1000\n",
        "\n",
        "# Training model\n",
        "(L_2,iteration_2,W_final_2,B_final_2) = regression(learning_rate, max_iterations, X_train_2, Y_train_2, W_2, B_2)"
      ],
      "metadata": {
        "id": "eSONjCaXJ0ZH"
      },
      "execution_count": null,
      "outputs": []
    },
    {
      "cell_type": "code",
      "source": [
        "# Final weights and Final bias\n",
        "print(W_final_2)\n",
        "print(B_final_2)"
      ],
      "metadata": {
        "colab": {
          "base_uri": "https://localhost:8080/"
        },
        "id": "u5QfXZBwKBb3",
        "outputId": "d7386ec4-1c07-40ed-b7cb-49e5c5112a6e"
      },
      "execution_count": null,
      "outputs": [
        {
          "output_type": "stream",
          "name": "stdout",
          "text": [
            "[[ 0.92815795]\n",
            " [ 0.06826076]\n",
            " [ 0.06890038]\n",
            " [-0.26313017]\n",
            " [ 0.21036407]\n",
            " [-0.40660054]\n",
            " [-1.12312936]\n",
            " [ 0.79443465]]\n",
            "0.5800355009725986\n"
          ]
        }
      ]
    },
    {
      "cell_type": "code",
      "source": [
        "# Plot of Loss v.s Iteration\n",
        "plt.plot(iteration_2,L_2,lw=4,color='red')\n",
        "plt.xlabel(\"ITERATION\")\n",
        "plt.ylabel(\"LOSS\")\n",
        "plt.title('LOSS VS ITER.')\n",
        "\n",
        "# Show plot\n",
        "plt.show()"
      ],
      "metadata": {
        "colab": {
          "base_uri": "https://localhost:8080/",
          "height": 472
        },
        "id": "uFuu48PAKV9-",
        "outputId": "06814051-f5da-4a7f-bad4-1e14848adf97"
      },
      "execution_count": null,
      "outputs": [
        {
          "output_type": "display_data",
          "data": {
            "text/plain": [
              "<Figure size 640x480 with 1 Axes>"
            ],
            "image/png": "[encoded data removed]"
          },
          "metadata": {}
        }
      ]
    },
    {
      "cell_type": "code",
      "source": [
        "# Testing model\n",
        "Y_pred = X_test_2@W_final_2 + B_final_2"
      ],
      "metadata": {
        "id": "me-OCOrIi9W0"
      },
      "execution_count": null,
      "outputs": []
    },
    {
      "cell_type": "code",
      "source": [
        "# Plot of Y_pred vs. Y_real\n",
        "plt.xlabel(\"Y_pred\")\n",
        "plt.ylabel(\"Y\")\n",
        "plt.title('Y_pred v.s Y')\n",
        "plt.scatter(Y_pred,Y_test_2)\n",
        "plt.plot(Y_pred,Y_pred,color='red')"
      ],
      "metadata": {
        "colab": {
          "base_uri": "https://localhost:8080/",
          "height": 489
        },
        "id": "IEBXwfqzKcSU",
        "outputId": "ee0bdd9c-2ceb-484a-d60f-981d563cc630"
      },
      "execution_count": null,
      "outputs": [
        {
          "output_type": "execute_result",
          "data": {
            "text/plain": [
              "[<matplotlib.lines.Line2D at 0x7fb117d2a080>]"
            ]
          },
          "metadata": {},
          "execution_count": 139
        },
        {
          "output_type": "display_data",
          "data": {
            "text/plain": [
              "<Figure size 640x480 with 1 Axes>"
            ],
            "image/png": "[encoded data removed]"
          },
          "metadata": {}
        }
      ]
    },
    {
      "cell_type": "markdown",
      "source": [
        "#### 3. Load the iris dataset in sklearn. This data sets consists of 3 different types of irises’ (Setosa, Versicolour, and Virginica) petal and sepal length, stored in a 150x4 numpy.ndarray. Using the operations implemented above create a multi-class classifier (Cross entropy loss + soft max)"
      ],
      "metadata": {
        "id": "3cVeF38zK-jb"
      }
    },
    {
      "cell_type": "code",
      "source": [
        "# Loading Iris data\n",
        "dataset=load_iris()\n",
        "X_3=dataset.data\n",
        "Y_3=dataset.target\n",
        "X_3, Y_3 = shuffle(X_3, Y_3, random_state=42)"
      ],
      "metadata": {
        "id": "o-x_LWfkLGje"
      },
      "execution_count": null,
      "outputs": []
    },
    {
      "cell_type": "code",
      "source": [
        "# Train-Test Split\n",
        "X_train_3, X_test_3, Y_train_3, Y_test_3 = train_test_split(X_3, Y_3, test_size=0.25, random_state=42)"
      ],
      "metadata": {
        "id": "rSxo_zHBLSLR"
      },
      "execution_count": null,
      "outputs": []
    },
    {
      "cell_type": "code",
      "source": [
        "#one-hot encoding\n",
        "Y_one_hot = np.zeros((Y_train_3.shape[0],3))\n",
        "for i in range(Y_train_3.shape[0]):\n",
        "  Y_one_hot[i][Y_train_3[i]] = 1\n",
        "Y_train_3 = Y_one_hot"
      ],
      "metadata": {
        "id": "Y7VoSuGwLbgw"
      },
      "execution_count": null,
      "outputs": []
    },
    {
      "cell_type": "code",
      "source": [
        "# Forward Pass for multilabel classification\n",
        "# Output: Softmax matrix and Loss\n",
        "def forward_pass(X,W,B,Y):\n",
        "  N=F1(X,W)\n",
        "  P=F2(N,B)\n",
        "  Q=F4(P)\n",
        "  L=F6(Q,Y)\n",
        "  return (L,P,Q)\n",
        "\n",
        "# Backward Pass for multilabel classification\n",
        "# Output: Gradient of Loss w.r.t weight and bias\n",
        "def backward_pass(X,W,B,P,Q,Y):\n",
        "  dl_dp = L_P(Y,Q)\n",
        "  dl_dw = (X.T)@(dl_dp)\n",
        "  dl_db=np.sum(dl_dp)\n",
        "  return (dl_dw,dl_db)\n",
        "\n",
        "# Predict output\n",
        "def predict(X,W,B):\n",
        "  N=F1(X,W)\n",
        "  P=F2(N,B)\n",
        "  Q=F4(P)\n",
        "  return np.argmax(Q,axis=1)\n",
        "\n",
        "# Shows Performance of the model\n",
        "def accuracy_score(predictions, Y_test):\n",
        "  count = 0;\n",
        "  for i in range(Y_test.shape[0]):\n",
        "    if predictions[i]==Y_test[i]:\n",
        "      count+=1\n",
        "  return (count/Y_test.shape[0])*100\n"
      ],
      "metadata": {
        "id": "JLLPmDxcLiPF"
      },
      "execution_count": null,
      "outputs": []
    },
    {
      "cell_type": "code",
      "source": [
        "# Initializing weights and bias randomly\n",
        "shape = (np.shape(X_3)[1],3)\n",
        "W_3 = np.random.randn(*shape)\n",
        "B_3 = np.random.rand()\n",
        "print(W_3)\n",
        "print(B_3)"
      ],
      "metadata": {
        "colab": {
          "base_uri": "https://localhost:8080/"
        },
        "id": "mcDU-CMoLo4s",
        "outputId": "c8f91db4-b5ff-48f1-b661-1bab4014795b"
      },
      "execution_count": null,
      "outputs": [
        {
          "output_type": "stream",
          "name": "stdout",
          "text": [
            "[[ 0.01111987  1.59848871  0.39634099]\n",
            " [-2.80870415 -0.14167945 -0.99990577]\n",
            " [-1.10178991  0.63112198  0.27209148]\n",
            " [ 0.78583832  0.30982441 -0.323197  ]]\n",
            "0.46505319174566595\n"
          ]
        }
      ]
    },
    {
      "cell_type": "code",
      "source": [
        "# Function to train model\n",
        "# Output: Final weight and Final bias\n",
        "def multilabel_classification(learning_rate, max_iteration, W, B,X_train,Y_train):\n",
        "  L = []\n",
        "  iteration = []\n",
        "  for i in range(max_iteration):\n",
        "    l,P,Q = forward_pass(X_train,W,B,Y_train)\n",
        "    (dl_dw,dl_db) = backward_pass(X_train,W,B,P,Q,Y_train)\n",
        "    W = W - learning_rate*dl_dw\n",
        "    B = B - learning_rate*dl_db\n",
        "    L.append(l)\n",
        "    iteration.append(i)\n",
        "  return (L,iteration,W,B)"
      ],
      "metadata": {
        "id": "W2dw7a4jLxMW"
      },
      "execution_count": null,
      "outputs": []
    },
    {
      "cell_type": "code",
      "source": [
        "learning_rate = 0.0001\n",
        "max_iteration = 1000\n",
        "\n",
        "# Training model\n",
        "(L_3,iteration_3,W_final_3,B_final_3) = multilabel_classification(learning_rate, max_iteration, W_3, B_3,X_train_3,Y_train_3)\n",
        "\n"
      ],
      "metadata": {
        "id": "o6FArnkxL2Rm"
      },
      "execution_count": null,
      "outputs": []
    },
    {
      "cell_type": "code",
      "source": [
        "# Predicting output\n",
        "predictions = predict(X_test_3,W_final_3,B_final_3)"
      ],
      "metadata": {
        "id": "tylncE0uMP99"
      },
      "execution_count": null,
      "outputs": []
    },
    {
      "cell_type": "code",
      "source": [
        "# Accuracy score\n",
        "print(accuracy_score(predictions,Y_test_3))"
      ],
      "metadata": {
        "colab": {
          "base_uri": "https://localhost:8080/"
        },
        "id": "d1WyRNsDMWeU",
        "outputId": "1cdaa534-2fdd-4542-cd25-77ece758d95a"
      },
      "execution_count": null,
      "outputs": [
        {
          "output_type": "stream",
          "name": "stdout",
          "text": [
            "97.36842105263158\n"
          ]
        }
      ]
    },
    {
      "cell_type": "code",
      "source": [
        "# Plot of Loss vs. Iteration\n",
        "plt.plot(iteration_3,L_3,lw=4,color='red')\n",
        "plt.xlabel(\"ITERATION\")\n",
        "plt.ylabel(\"LOSS\")\n",
        "plt.title('LOSS VS ITER.')\n",
        "\n",
        "# Show plot\n",
        "plt.show()"
      ],
      "metadata": {
        "colab": {
          "base_uri": "https://localhost:8080/",
          "height": 472
        },
        "id": "5KYINIs6MZLy",
        "outputId": "8a508423-d10c-445c-83c0-24188b62abb8"
      },
      "execution_count": null,
      "outputs": [
        {
          "output_type": "display_data",
          "data": {
            "text/plain": [
              "<Figure size 640x480 with 1 Axes>"
            ],
            "image/png": "[encoded data removed]"
          },
          "metadata": {}
        }
      ]
    },
    {
      "cell_type": "code",
      "source": [],
      "metadata": {
        "id": "SGn77r6iMeV7"
      },
      "execution_count": null,
      "outputs": []
    }
  ]
}